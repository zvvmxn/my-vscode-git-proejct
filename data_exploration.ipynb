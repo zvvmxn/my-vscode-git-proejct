{
 "cells": [
  {
   "cell_type": "code",
   "execution_count": null,
   "id": "38d762fd",
   "metadata": {},
   "outputs": [],
   "source": [
    "# 데이터 탐색 및 전처리\n",
    "import pandas as pd\n",
    "\n",
    "data = {'col1': [1, 2], 'col2': [3, 4]}\n",
    "df = pd.DataFrame(data)\n",
    "print(df.head())"
   ]
  }
 ],
 "metadata": {
  "kernelspec": {
   "display_name": "codeit_env",
   "language": "python",
   "name": "python3"
  },
  "language_info": {
   "name": "python",
   "version": "3.12.9"
  }
 },
 "nbformat": 4,
 "nbformat_minor": 5
}
